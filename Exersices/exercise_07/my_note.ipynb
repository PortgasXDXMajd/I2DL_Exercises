{
 "cells": [
  {
   "cell_type": "code",
   "execution_count": 8,
   "metadata": {},
   "outputs": [
    {
     "name": "stdout",
     "output_type": "stream",
     "text": [
      "13\n",
      "45\n",
      "63\n"
     ]
    }
   ],
   "source": [
    "t = int(input(\"Number of test cases: \"))\n",
    "prices = []\n",
    "\n",
    "for i in range(t):\n",
    "    prices.append(input())\n",
    "\n",
    "for price in prices:\n",
    "    possiblePrices = []\n",
    "    for i in range(len(price)):\n",
    "        priceAfterRemoving = price[:i] + price[i+1:]\n",
    "        possiblePrices.append(int(priceAfterRemoving))\n",
    "    print(min(possiblePrices))\n"
   ]
  }
 ],
 "metadata": {
  "kernelspec": {
   "display_name": "Python 3",
   "language": "python",
   "name": "python3"
  },
  "language_info": {
   "codemirror_mode": {
    "name": "ipython",
    "version": 3
   },
   "file_extension": ".py",
   "mimetype": "text/x-python",
   "name": "python",
   "nbconvert_exporter": "python",
   "pygments_lexer": "ipython3",
   "version": "3.8.0 (tags/v3.8.0:fa919fd, Oct 14 2019, 19:37:50) [MSC v.1916 64 bit (AMD64)]"
  },
  "orig_nbformat": 4,
  "vscode": {
   "interpreter": {
    "hash": "8d59c9d3a7b42134f8d121118429e312b53e0584621117dc9cf743c951380d96"
   }
  }
 },
 "nbformat": 4,
 "nbformat_minor": 2
}
